{
  "metadata": {
    "kernelspec": {
      "language": "python",
      "display_name": "Python 3",
      "name": "python3"
    },
    "language_info": {
      "name": "python",
      "version": "3.11.13",
      "mimetype": "text/x-python",
      "codemirror_mode": {
        "name": "ipython",
        "version": 3
      },
      "pygments_lexer": "ipython3",
      "nbconvert_exporter": "python",
      "file_extension": ".py"
    },
    "kaggle": {
      "accelerator": "gpu",
      "dataSources": [
        {
          "sourceId": 1803508,
          "sourceType": "datasetVersion",
          "datasetId": 1071541
        }
      ],
      "dockerImageVersionId": 31154,
      "isInternetEnabled": true,
      "language": "python",
      "sourceType": "notebook",
      "isGpuEnabled": true
    },
    "colab": {
      "name": "E-Commerce Recommender",
      "provenance": []
    }
  },
  "nbformat_minor": 0,
  "nbformat": 4,
  "cells": [
    {
      "source": [
        "# IMPORTANT: RUN THIS CELL IN ORDER TO IMPORT YOUR KAGGLE DATA SOURCES,\n",
        "# THEN FEEL FREE TO DELETE THIS CELL.\n",
        "# NOTE: THIS NOTEBOOK ENVIRONMENT DIFFERS FROM KAGGLE'S PYTHON\n",
        "# ENVIRONMENT SO THERE MAY BE MISSING LIBRARIES USED BY YOUR\n",
        "# NOTEBOOK.\n",
        "import kagglehub\n",
        "dschettler8845_recsys_2020_ecommerce_dataset_path = kagglehub.dataset_download('dschettler8845/recsys-2020-ecommerce-dataset')\n",
        "\n",
        "print('Data source import complete.')\n"
      ],
      "metadata": {
        "id": "UxgIqAYf2r-h"
      },
      "cell_type": "code",
      "outputs": [],
      "execution_count": null
    },
    {
      "cell_type": "code",
      "source": [
        "import os\n",
        "import pandas as pd\n",
        "import numpy as np\n",
        "from sklearn.preprocessing import LabelEncoder, OneHotEncoder\n",
        "from sklearn.metrics.pairwise import cosine_similarity\n",
        "from sklearn.decomposition import TruncatedSVD\n",
        "from scipy.sparse import csr_matrix\n",
        "from sklearn.model_selection import train_test_split\n",
        "from sklearn.ensemble import RandomForestClassifier\n",
        "from sklearn.metrics import classification_report, roc_auc_score\n",
        "import joblib\n"
      ],
      "metadata": {
        "_uuid": "8f2839f25d086af736a60e9eeb907d3b93b6e0e5",
        "_cell_guid": "b1076dfc-b9ad-4769-8c92-a6c4dae69d19",
        "trusted": true,
        "execution": {
          "iopub.status.busy": "2025-10-07T04:02:58.323985Z",
          "iopub.execute_input": "2025-10-07T04:02:58.324942Z",
          "iopub.status.idle": "2025-10-07T04:02:58.329446Z",
          "shell.execute_reply.started": "2025-10-07T04:02:58.324911Z",
          "shell.execute_reply": "2025-10-07T04:02:58.328458Z"
        },
        "id": "nYczUGMZ2r-k"
      },
      "outputs": [],
      "execution_count": null
    },
    {
      "cell_type": "code",
      "source": [
        "DATA_DIR = '/kaggle/input/recsys-2020-ecommerce-dataset'\n",
        "\n",
        "train_df = pd.read_parquet(os.path.join(DATA_DIR,'train.parquet')).sample(n=500000, random_state=42)\n",
        "val_df = pd.read_parquet(os.path.join(DATA_DIR,'val.parquet')).sample(n=100000, random_state=42)\n",
        "test_df = pd.read_parquet(os.path.join(DATA_DIR,'test.parquet')).sample(n=100000, random_state=42)\n",
        "\n",
        "print(\"Sampled Train shape:\", train_df.shape)\n",
        "print(\"Columns:\", train_df.columns)"
      ],
      "metadata": {
        "trusted": true,
        "execution": {
          "iopub.status.busy": "2025-10-07T04:03:00.786698Z",
          "iopub.execute_input": "2025-10-07T04:03:00.787006Z",
          "iopub.status.idle": "2025-10-07T04:03:25.075069Z",
          "shell.execute_reply.started": "2025-10-07T04:03:00.786986Z",
          "shell.execute_reply": "2025-10-07T04:03:25.074342Z"
        },
        "id": "261P4lS42r-k",
        "outputId": "02d0a39a-5926-4ab3-97d8-904adcb6d7fb"
      },
      "outputs": [
        {
          "name": "stdout",
          "text": "Sampled Train shape: (500000, 19)\nColumns: Index(['event_time', 'event_type', 'product_id', 'brand', 'price', 'user_id',\n       'user_session', 'target', 'cat_0', 'cat_1', 'cat_2', 'cat_3',\n       'timestamp', 'ts_hour', 'ts_minute', 'ts_weekday', 'ts_day', 'ts_month',\n       'ts_year'],\n      dtype='object')\n",
          "output_type": "stream"
        }
      ],
      "execution_count": null
    },
    {
      "cell_type": "code",
      "source": [
        "weight_map = {'view':1.0, 'cart':3.0, 'purchase':5.0}\n",
        "train_df['weight'] = train_df['event_type'].map(lambda x: weight_map.get(x.lower(),1.0))\n",
        "\n",
        "agg = train_df.groupby(['user_id','product_id'])['weight'].sum().reset_index()\n",
        "user2idx = {u:i for i,u in enumerate(agg['user_id'].unique())}\n",
        "item2idx = {i:i_ for i_,i in enumerate(agg['product_id'].unique())}\n",
        "idx2item = {i_:i for i_,i in enumerate(agg['product_id'].unique())}\n",
        "\n",
        "agg['u_idx'] = agg['user_id'].map(user2idx)\n",
        "agg['i_idx'] = agg['product_id'].map(item2idx)\n",
        "\n",
        "n_users = len(user2idx)\n",
        "n_items = len(item2idx)\n",
        "\n",
        "rows = agg['u_idx'].values\n",
        "cols = agg['i_idx'].values\n",
        "data_vals = agg['weight'].values\n",
        "user_item_mat = csr_matrix((data_vals, (rows, cols)), shape=(n_users, n_items))\n",
        "\n",
        "# SVD Embeddings (low dimension)\n",
        "svd = TruncatedSVD(n_components=20, random_state=42)\n",
        "item_emb = svd.fit_transform(user_item_mat.T)  # item embeddings"
      ],
      "metadata": {
        "trusted": true,
        "execution": {
          "iopub.status.busy": "2025-10-07T04:03:31.633042Z",
          "iopub.execute_input": "2025-10-07T04:03:31.633273Z",
          "iopub.status.idle": "2025-10-07T04:03:38.160246Z",
          "shell.execute_reply.started": "2025-10-07T04:03:31.633256Z",
          "shell.execute_reply": "2025-10-07T04:03:38.159637Z"
        },
        "id": "zIMZXMVt2r-l"
      },
      "outputs": [],
      "execution_count": null
    },
    {
      "cell_type": "code",
      "source": [
        "content_cols = ['brand','cat_0','cat_1','cat_2','cat_3']\n",
        "item_metadata = train_df[['product_id'] + content_cols].drop_duplicates().set_index('product_id').fillna('unknown')\n",
        "\n",
        "ohe = OneHotEncoder(sparse=True)\n",
        "X_content = ohe.fit_transform(item_metadata)\n",
        "# Map for content-based indexing\n",
        "content_items = list(item_metadata.index)\n",
        "idx2content = {i: pid for i, pid in enumerate(content_items)}\n",
        "content2idx = {pid: i for i, pid in enumerate(content_items)}\n"
      ],
      "metadata": {
        "trusted": true,
        "execution": {
          "iopub.status.busy": "2025-10-07T04:03:38.162206Z",
          "iopub.execute_input": "2025-10-07T04:03:38.162424Z",
          "iopub.status.idle": "2025-10-07T04:03:38.568181Z",
          "shell.execute_reply.started": "2025-10-07T04:03:38.162409Z",
          "shell.execute_reply": "2025-10-07T04:03:38.567244Z"
        },
        "id": "bMpSvAGe2r-l",
        "outputId": "1d074478-dc23-46c2-94b7-bfc4c6ea53e9"
      },
      "outputs": [
        {
          "name": "stderr",
          "text": "/usr/local/lib/python3.11/dist-packages/sklearn/preprocessing/_encoders.py:868: FutureWarning: `sparse` was renamed to `sparse_output` in version 1.2 and will be removed in 1.4. `sparse_output` is ignored unless you leave `sparse` to its default value.\n  warnings.warn(\n",
          "output_type": "stream"
        }
      ],
      "execution_count": null
    },
    {
      "cell_type": "code",
      "source": [
        "def content_sim_on_fly(product_id, top_n=5):\n",
        "    if product_id not in content2idx:\n",
        "        return []\n",
        "    i_idx = content2idx[product_id]\n",
        "    sims = cosine_similarity(X_content[i_idx], X_content).flatten()\n",
        "    top_idxs = np.argsort(-sims)[1:top_n+1]\n",
        "    return [idx2content[i] for i in top_idxs]\n",
        "\n",
        "def recommend_for_user(user_id, top_n=10):\n",
        "    if user_id not in user2idx:\n",
        "        return []\n",
        "    uidx = user2idx[user_id]\n",
        "    row = user_item_mat.getrow(uidx).toarray().flatten()\n",
        "    interacted_idx = np.where(row>0)[0]\n",
        "    scores = np.zeros(n_items)\n",
        "    for ii in interacted_idx:\n",
        "        sims = cosine_similarity(item_emb[ii].reshape(1,-1), item_emb).flatten()\n",
        "        scores += row[ii]*sims\n",
        "    scores[interacted_idx] = -np.inf\n",
        "    top_idxs = np.argsort(-scores)[:top_n]\n",
        "    return [idx2item[i] for i in top_idxs if scores[i]!=-np.inf]\n",
        "\n",
        "def hybrid_recommend(user_id, top_n=10):\n",
        "    collab_recs = recommend_for_user(user_id, top_n=top_n)\n",
        "    content_recs = []\n",
        "    for item in collab_recs[:5]:\n",
        "        content_recs += content_sim_on_fly(item, top_n=2)\n",
        "    hybrid_recs = list(dict.fromkeys(collab_recs + content_recs))\n",
        "    return hybrid_recs[:top_n]"
      ],
      "metadata": {
        "trusted": true,
        "execution": {
          "iopub.status.busy": "2025-10-07T04:03:38.569194Z",
          "iopub.execute_input": "2025-10-07T04:03:38.569502Z",
          "iopub.status.idle": "2025-10-07T04:03:38.576949Z",
          "shell.execute_reply.started": "2025-10-07T04:03:38.569476Z",
          "shell.execute_reply": "2025-10-07T04:03:38.576234Z"
        },
        "id": "DU9rDtlF2r-l"
      },
      "outputs": [],
      "execution_count": null
    },
    {
      "cell_type": "code",
      "source": [
        "train_df['liked'] = train_df['event_type'].apply(lambda x: 1 if x.lower()=='purchase' else 0)\n",
        "\n",
        "features = ['user_id','product_id','price']\n",
        "X = train_df[features].copy()\n",
        "y = train_df['liked']\n",
        "\n",
        "le_user = LabelEncoder()\n",
        "le_item = LabelEncoder()\n",
        "X['user_id'] = le_user.fit_transform(X['user_id'])\n",
        "X['product_id'] = le_item.fit_transform(X['product_id'])\n",
        "\n",
        "X_train, X_test, y_train, y_test = train_test_split(X, y, test_size=0.2, random_state=42)\n",
        "clf = RandomForestClassifier(n_estimators=100, random_state=42)\n",
        "clf.fit(X_train, y_train)\n",
        "\n",
        "y_pred = clf.predict(X_test)\n",
        "y_proba = clf.predict_proba(X_test)[:,1]\n",
        "print(classification_report(y_test, y_pred))\n",
        "print(\"ROC-AUC:\", roc_auc_score(y_test, y_proba))\n",
        "\n",
        "# ------------------------------\n",
        "# Step 6: Final Hybrid + ML Ranking\n",
        "# ------------------------------\n",
        "def final_recommend(user_id, top_n=10):\n",
        "    hybrid_items = hybrid_recommend(user_id, top_n=20)\n",
        "    df_pred = pd.DataFrame({\n",
        "        'user_id':[user_id]*len(hybrid_items),\n",
        "        'product_id':hybrid_items,\n",
        "        'price':[train_df[train_df['product_id']==i]['price'].values[0] for i in hybrid_items]\n",
        "    })\n",
        "    df_pred['user_id'] = le_user.transform(df_pred['user_id'])\n",
        "    df_pred['product_id'] = le_item.transform(df_pred['product_id'])\n",
        "    probs = clf.predict_proba(df_pred)[:,1]\n",
        "    df_pred['prob'] = probs\n",
        "    df_pred = df_pred.sort_values('prob', ascending=False)\n",
        "    return df_pred['product_id'].tolist()[:top_n]"
      ],
      "metadata": {
        "trusted": true,
        "execution": {
          "iopub.status.busy": "2025-10-07T04:03:38.57787Z",
          "iopub.execute_input": "2025-10-07T04:03:38.578441Z",
          "iopub.status.idle": "2025-10-07T04:05:10.054475Z",
          "shell.execute_reply.started": "2025-10-07T04:03:38.578414Z",
          "shell.execute_reply": "2025-10-07T04:05:10.053663Z"
        },
        "id": "j_BP8LPT2r-m",
        "outputId": "3a0c91cd-6727-455b-f027-19033a9775d9"
      },
      "outputs": [
        {
          "name": "stdout",
          "text": "              precision    recall  f1-score   support\n\n           0       0.68      0.79      0.73     63618\n           1       0.49      0.35      0.41     36382\n\n    accuracy                           0.63    100000\n   macro avg       0.59      0.57      0.57    100000\nweighted avg       0.61      0.63      0.61    100000\n\nROC-AUC: 0.6197042891285451\n",
          "output_type": "stream"
        }
      ],
      "execution_count": null
    },
    {
      "cell_type": "code",
      "source": [
        "sample_users = list(user2idx.keys())[:5]\n",
        "for u in sample_users:\n",
        "    print(f\"\\nFinal recommendations for user {u}:\")\n",
        "    print(final_recommend(u, top_n=10))"
      ],
      "metadata": {
        "trusted": true,
        "execution": {
          "iopub.status.busy": "2025-10-07T04:05:10.055283Z",
          "iopub.execute_input": "2025-10-07T04:05:10.055518Z",
          "iopub.status.idle": "2025-10-07T04:05:16.593612Z",
          "shell.execute_reply.started": "2025-10-07T04:05:10.055494Z",
          "shell.execute_reply": "2025-10-07T04:05:16.59289Z"
        },
        "id": "FbzLRmIX2r-m",
        "outputId": "ec29fc9c-0fb4-4b52-e022-36a907d0bcb0"
      },
      "outputs": [
        {
          "name": "stdout",
          "text": "\nFinal recommendations for user 153449371:\n[334, 21316, 10199, 33553, 43662, 33550, 26102, 38131, 51661, 50882]\n\nFinal recommendations for user 171409616:\n[10511, 10055, 35363, 34110, 7727, 42761, 10616, 34911, 21743, 7287]\n\nFinal recommendations for user 220134341:\n[20505, 46951, 1300, 26009, 19244, 5638, 4149, 48463, 50494, 45368]\n\nFinal recommendations for user 226242984:\n[25867, 20700, 23602, 13719, 25665, 25123, 25603, 48632, 47076, 25896]\n\nFinal recommendations for user 237470903:\n[44812, 9581, 23238, 10449, 25375, 20724, 35938, 26514, 18715, 52198]\n",
          "output_type": "stream"
        }
      ],
      "execution_count": null
    },
    {
      "cell_type": "code",
      "source": [
        "joblib.dump(item_emb,'item_emb.pkl')\n",
        "joblib.dump(user_item_mat,'user_item_mat.pkl')\n",
        "joblib.dump(user2idx,'user2idx.pkl')\n",
        "joblib.dump(item2idx,'item2idx.pkl')\n",
        "joblib.dump(idx2item,'idx2item.pkl')\n",
        "joblib.dump(svd,'svd_model.pkl')\n",
        "joblib.dump(ohe,'ohe.pkl')\n",
        "joblib.dump(clf,'rf_recommender.pkl')\n",
        "joblib.dump(le_user,'le_user.pkl')\n",
        "joblib.dump(le_item,'le_item.pkl')\n",
        "\n",
        "print(\"All .pkl files saved! Ready for Streamlit deployment.\")"
      ],
      "metadata": {
        "trusted": true,
        "execution": {
          "iopub.status.busy": "2025-10-07T04:05:23.144883Z",
          "iopub.execute_input": "2025-10-07T04:05:23.145143Z",
          "iopub.status.idle": "2025-10-07T04:05:28.501568Z",
          "shell.execute_reply.started": "2025-10-07T04:05:23.145119Z",
          "shell.execute_reply": "2025-10-07T04:05:28.500547Z"
        },
        "id": "gtsl2JX12r-n",
        "outputId": "966b2841-1b6b-47f4-c7e7-ec95613f20e3"
      },
      "outputs": [
        {
          "name": "stdout",
          "text": "All .pkl files saved! Ready for Streamlit deployment.\n",
          "output_type": "stream"
        }
      ],
      "execution_count": null
    }
  ]
}